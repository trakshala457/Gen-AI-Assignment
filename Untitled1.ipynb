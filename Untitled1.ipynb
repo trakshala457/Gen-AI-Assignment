{
  "nbformat": 4,
  "nbformat_minor": 0,
  "metadata": {
    "colab": {
      "provenance": [],
      "authorship_tag": "ABX9TyPXJ/2IeB+wQEUASEGOhMn5",
      "include_colab_link": true
    },
    "kernelspec": {
      "name": "python3",
      "display_name": "Python 3"
    },
    "language_info": {
      "name": "python"
    }
  },
  "cells": [
    {
      "cell_type": "markdown",
      "metadata": {
        "id": "view-in-github",
        "colab_type": "text"
      },
      "source": [
        "<a href=\"https://colab.research.google.com/github/trakshala457/Gen-AI-Assignment/blob/main/Untitled1.ipynb\" target=\"_parent\"><img src=\"https://colab.research.google.com/assets/colab-badge.svg\" alt=\"Open In Colab\"/></a>"
      ]
    },
    {
      "cell_type": "code",
      "source": [
        "!pip install transformers"
      ],
      "metadata": {
        "id": "q9h2XOGhXxT2",
        "colab": {
          "base_uri": "https://localhost:8080/"
        },
        "outputId": "5180ac6c-da40-4519-d0d7-ca9ced95b44f"
      },
      "execution_count": null,
      "outputs": [
        {
          "output_type": "stream",
          "name": "stdout",
          "text": [
            "Requirement already satisfied: transformers in /usr/local/lib/python3.11/dist-packages (4.53.1)\n",
            "Requirement already satisfied: filelock in /usr/local/lib/python3.11/dist-packages (from transformers) (3.18.0)\n",
            "Requirement already satisfied: huggingface-hub<1.0,>=0.30.0 in /usr/local/lib/python3.11/dist-packages (from transformers) (0.33.2)\n",
            "Requirement already satisfied: numpy>=1.17 in /usr/local/lib/python3.11/dist-packages (from transformers) (2.0.2)\n",
            "Requirement already satisfied: packaging>=20.0 in /usr/local/lib/python3.11/dist-packages (from transformers) (24.2)\n",
            "Requirement already satisfied: pyyaml>=5.1 in /usr/local/lib/python3.11/dist-packages (from transformers) (6.0.2)\n",
            "Requirement already satisfied: regex!=2019.12.17 in /usr/local/lib/python3.11/dist-packages (from transformers) (2024.11.6)\n",
            "Requirement already satisfied: requests in /usr/local/lib/python3.11/dist-packages (from transformers) (2.32.3)\n",
            "Requirement already satisfied: tokenizers<0.22,>=0.21 in /usr/local/lib/python3.11/dist-packages (from transformers) (0.21.2)\n",
            "Requirement already satisfied: safetensors>=0.4.3 in /usr/local/lib/python3.11/dist-packages (from transformers) (0.5.3)\n",
            "Requirement already satisfied: tqdm>=4.27 in /usr/local/lib/python3.11/dist-packages (from transformers) (4.67.1)\n",
            "Requirement already satisfied: fsspec>=2023.5.0 in /usr/local/lib/python3.11/dist-packages (from huggingface-hub<1.0,>=0.30.0->transformers) (2025.3.2)\n",
            "Requirement already satisfied: typing-extensions>=3.7.4.3 in /usr/local/lib/python3.11/dist-packages (from huggingface-hub<1.0,>=0.30.0->transformers) (4.14.1)\n",
            "Requirement already satisfied: hf-xet<2.0.0,>=1.1.2 in /usr/local/lib/python3.11/dist-packages (from huggingface-hub<1.0,>=0.30.0->transformers) (1.1.5)\n",
            "Requirement already satisfied: charset-normalizer<4,>=2 in /usr/local/lib/python3.11/dist-packages (from requests->transformers) (3.4.2)\n",
            "Requirement already satisfied: idna<4,>=2.5 in /usr/local/lib/python3.11/dist-packages (from requests->transformers) (3.10)\n",
            "Requirement already satisfied: urllib3<3,>=1.21.1 in /usr/local/lib/python3.11/dist-packages (from requests->transformers) (2.4.0)\n",
            "Requirement already satisfied: certifi>=2017.4.17 in /usr/local/lib/python3.11/dist-packages (from requests->transformers) (2025.7.9)\n"
          ]
        }
      ]
    },
    {
      "cell_type": "code",
      "execution_count": null,
      "metadata": {
        "id": "Ys8KR5AVVelV",
        "colab": {
          "base_uri": "https://localhost:8080/"
        },
        "outputId": "fadf0fc6-5dfb-4ff2-bd12-d0ef1fcd1a1e"
      },
      "outputs": [
        {
          "output_type": "stream",
          "name": "stderr",
          "text": [
            "Device set to use cpu\n",
            "Setting `pad_token_id` to `eos_token_id`:50256 for open-end generation.\n"
          ]
        },
        {
          "output_type": "stream",
          "name": "stdout",
          "text": [
            "[{'generated_text': \"What is AI?\\n\\nAI is a term that comes from the idea of intelligence. It means the ability to do the things people do, and that's what makes AI possible.\\n\\nAI can be done a lot less easily than people do. It takes more time, it takes less time to learn, and it takes less time to learn. Humans don't even have to think about it until they're done with it. You can get smarter and smarter by simply learning.\\n\\nThe idea is that if you have a car, you can drive it as long as you have a smart car. If you don't, you're going to waste all your time trying to drive it.\\n\\nAI is a great way to get smarter, which is why there's a lot of people who say that AI is a way to get smarter.\\n\\nAI is a great way to get smarter, which is why there's a lot of people who say that AI is a way to get smarter.\\n\\nBut it's also a good thing, because we have all sorts of things in our body, our brains, that are more intelligent than we are.\\n\\nAnd so that makes the idea of AI a lot more appealing to people.\\n\\nI don't know how many people\"}]\n"
          ]
        }
      ],
      "source": [
        " from transformers import pipeline\n",
        " generator =pipeline(\"text-generation\", model=\"gpt2\")\n",
        " print(generator(\"What is AI?\"))"
      ]
    },
    {
      "cell_type": "code",
      "source": [
        "from transformers import pipeline\n",
        "generator = pipeline(\"summarization\", model=\"facebook/bart-large-cnn\")\n",
        "text = \"\"\"\n",
        "        The Internet has revolutionized the way people communicate, work, learn, and live. Initially developed as a research project by the U.S. Department of Defense, it evolved into a global network that connects billions of devices today. The rise of email, social media platforms, and instant messaging has made communication faster and more accessible. Moreover, remote work and online education have become feasible due to high-speed internet and digital collaboration tools.\n",
        "\n",
        "E-commerce has also grown exponentially, with companies like Amazon, Flipkart, and Alibaba transforming the retail landscape. Businesses now use the internet for marketing, customer service, and supply chain management. However, the rapid growth of the internet also brings challenges such as cybersecurity threats, data privacy issues, and the digital divide. Efforts are ongoing to ensure that internet access becomes a universal right, bridging the gap between developed and developing regions.\"\"\"\n",
        "print(generator(text))"
      ],
      "metadata": {
        "colab": {
          "base_uri": "https://localhost:8080/"
        },
        "id": "wgcjuiWuaPNC",
        "outputId": "f9b86dee-6c86-47aa-f693-55f33630e4fd"
      },
      "execution_count": null,
      "outputs": [
        {
          "output_type": "stream",
          "name": "stderr",
          "text": [
            "Device set to use cpu\n"
          ]
        },
        {
          "output_type": "stream",
          "name": "stdout",
          "text": [
            "[{'summary_text': 'The internet has revolutionized the way people communicate, work, learn, and live. The rise of email, social media platforms, and instant messaging has made communication faster and more accessible. Efforts are ongoing to ensure that internet access becomes a universal right, bridging the gap between developed and developing regions.'}]\n"
          ]
        }
      ]
    },
    {
      "cell_type": "code",
      "source": [
        "from transformers import pipeline\n",
        "generator = pipeline(\"text-generation\", model='gpt2')\n",
        "prompt = \"Tell me about Aurangzeb\"\n",
        "output = generator(prompt)\n",
        "print(output)"
      ],
      "metadata": {
        "colab": {
          "base_uri": "https://localhost:8080/"
        },
        "id": "XexsMuNQcrg4",
        "outputId": "788d0d65-c6bd-4a29-c6e4-d07a2d89f0e4"
      },
      "execution_count": null,
      "outputs": [
        {
          "output_type": "stream",
          "name": "stderr",
          "text": [
            "Device set to use cpu\n",
            "Setting `pad_token_id` to `eos_token_id`:50256 for open-end generation.\n"
          ]
        },
        {
          "output_type": "stream",
          "name": "stdout",
          "text": [
            "[{'generated_text': \"Tell me about Aurangzeb: how he had a long life after the events of the first part of the Second War. How he was taken away for the invasion by the Kishanans. How he was sent to the war zones, to fight against the Kishan armies there and also to go in and kill people there, but it was like he'd been sent to a war zone, and there was no one there to help him. That is how he was taken away. Where he was captured. As he fought against what was coming down on him, he came to the conclusion that he had no choice but to be captured. And, that is how he was captured. We know from sources that he was captured at the time, but we don't know how he got there. We don't know how he got there. And, that is how he was captured. And there is no one there to help him.\\n\\nI'm not sure why the show has a problem with that. I'm sure there are other things that are in there that are in there that are not in there. I'm not sure whether it's a joke or not. I will say this, and this is the first thing that comes to mind when I think about how the show is made.\"}]\n"
          ]
        }
      ]
    },
    {
      "cell_type": "code",
      "source": [
        "from transformers import pipeline\n",
        "generator = pipeline(\"translataion\", model = gpt2)"
      ],
      "metadata": {
        "id": "slN1YqNmpqAR"
      },
      "execution_count": null,
      "outputs": []
    }
  ]
}